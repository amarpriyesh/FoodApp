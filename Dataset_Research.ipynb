{
  "metadata": {
    "kernelspec": {
      "language": "python",
      "display_name": "Python 3",
      "name": "python3"
    },
    "language_info": {
      "name": "python",
      "version": "3.10.13",
      "mimetype": "text/x-python",
      "codemirror_mode": {
        "name": "ipython",
        "version": 3
      },
      "pygments_lexer": "ipython3",
      "nbconvert_exporter": "python",
      "file_extension": ".py"
    },
    "kaggle": {
      "accelerator": "none",
      "dataSources": [
        {
          "sourceId": 4130977,
          "sourceType": "datasetVersion",
          "datasetId": 2440705
        },
        {
          "sourceId": 4077749,
          "sourceType": "datasetVersion",
          "datasetId": 1243366
        },
        {
          "sourceId": 1584379,
          "sourceType": "datasetVersion",
          "datasetId": 934844
        }
      ],
      "dockerImageVersionId": 30673,
      "isInternetEnabled": true,
      "language": "python",
      "sourceType": "notebook",
      "isGpuEnabled": false
    },
    "colab": {
      "name": "Dataset Research",
      "provenance": [],
      "include_colab_link": true
    }
  },
  "nbformat_minor": 0,
  "nbformat": 4,
  "cells": [
    {
      "cell_type": "markdown",
      "metadata": {
        "id": "view-in-github",
        "colab_type": "text"
      },
      "source": [
        "<a href=\"https://colab.research.google.com/github/Stealth-Food-Exploration/web-application/blob/main/Dataset_Research.ipynb\" target=\"_parent\"><img src=\"https://colab.research.google.com/assets/colab-badge.svg\" alt=\"Open In Colab\"/></a>"
      ]
    },
    {
      "source": [
        "\n",
        "# IMPORTANT: RUN THIS CELL IN ORDER TO IMPORT YOUR KAGGLE DATA SOURCES\n",
        "# TO THE CORRECT LOCATION (/kaggle/input) IN YOUR NOTEBOOK,\n",
        "# THEN FEEL FREE TO DELETE THIS CELL.\n",
        "# NOTE: THIS NOTEBOOK ENVIRONMENT DIFFERS FROM KAGGLE'S PYTHON\n",
        "# ENVIRONMENT SO THERE MAY BE MISSING LIBRARIES USED BY YOUR\n",
        "# NOTEBOOK.\n",
        "\n",
        "import os\n",
        "import sys\n",
        "from tempfile import NamedTemporaryFile\n",
        "from urllib.request import urlopen\n",
        "from urllib.parse import unquote, urlparse\n",
        "from urllib.error import HTTPError\n",
        "from zipfile import ZipFile\n",
        "import tarfile\n",
        "import shutil\n",
        "\n",
        "CHUNK_SIZE = 40960\n",
        "DATA_SOURCE_MAPPING = '6000-indian-food-recipes-dataset:https%3A%2F%2Fstorage.googleapis.com%2Fkaggle-data-sets%2F934844%2F1584379%2Fbundle%2Farchive.zip%3FX-Goog-Algorithm%3DGOOG4-RSA-SHA256%26X-Goog-Credential%3Dgcp-kaggle-com%2540kaggle-161607.iam.gserviceaccount.com%252F20240401%252Fauto%252Fstorage%252Fgoog4_request%26X-Goog-Date%3D20240401T190131Z%26X-Goog-Expires%3D259200%26X-Goog-SignedHeaders%3Dhost%26X-Goog-Signature%3D77c611546bcf5655f298d61b2cd1ed4fdaf8cabfd02ee182c0be7554c4839c26d94d3b41d9315c89999d7da6a927634eba1dc48f4f490848dde165ad62d17a5519feb26fb7973584756ee6ce6103cd6e176668639005ad6c7b7851a9ef63e2f9c5c04a4c9e12c82eb658a3f0f989d8493ac054082babdf99c522251de52eddccd79f774720684b3e83f5900c39ad0f05b16b84828c8c7c2b2fca887ece4213220feceb968677ac4f98b419de79aca30f0ec61e9bb4bade5a7c1da60a3acf03ea2ea4be427e6366217c405f776fbb71afc9936af8a2ca9007308f86498c9fa9c6be76ac8552d7d04842dd6590e847b6674eac6aa519220101a8d1e41ac3483adc,indian-food-images-dataset:https%3A%2F%2Fstorage.googleapis.com%2Fkaggle-data-sets%2F1243366%2F4077749%2Fbundle%2Farchive.zip%3FX-Goog-Algorithm%3DGOOG4-RSA-SHA256%26X-Goog-Credential%3Dgcp-kaggle-com%2540kaggle-161607.iam.gserviceaccount.com%252F20240401%252Fauto%252Fstorage%252Fgoog4_request%26X-Goog-Date%3D20240401T190131Z%26X-Goog-Expires%3D259200%26X-Goog-SignedHeaders%3Dhost%26X-Goog-Signature%3Db37bff5a0a30a7b348c6dab5134c98250efad7072c21f6db5224bc4555c9fd52446f78ecf9d1b72d43b6440addf4da2897ed14a33115dc7e7b128b4979a29ee92b505ab0d9edfbb453f62de2c84030d679b7e5bb7a518076b5cb81779087a9ded4c6053fabd799fc6b6b137ce5ff1168fdf096f0cfe1378e136aeeff532fc112754c90897e9ecd255dab2129542ef9ad5d7dc0685f3a60637d82aa935df3d9ce7086ad965ae2cf8ae86bd8bce705a5ab0a22bb5451fae825b55350158c30629939e6f0b743b035a4de490dc19c97a975c6ae8c3db834a9f14d4a841e6e80d271588ed42c552c40a1a031711fc2af8cb8e8f282e00448e4353691dfcb48555d87,indian-food-and-its-recipes-dataset-with-images:https%3A%2F%2Fstorage.googleapis.com%2Fkaggle-data-sets%2F2440705%2F4130977%2Fbundle%2Farchive.zip%3FX-Goog-Algorithm%3DGOOG4-RSA-SHA256%26X-Goog-Credential%3Dgcp-kaggle-com%2540kaggle-161607.iam.gserviceaccount.com%252F20240401%252Fauto%252Fstorage%252Fgoog4_request%26X-Goog-Date%3D20240401T190131Z%26X-Goog-Expires%3D259200%26X-Goog-SignedHeaders%3Dhost%26X-Goog-Signature%3D8ff4651b09eb5ca1c1ec7c7c685a4457808fc48267a9f8b1f77938cfea03ee8d599ba251e875ffcfe485744d8ed6cd1d0569eb73c64a0dbc4188449cb05a5ae1a0803a85527abeba0d054e1af583e311594349aad893f5c250c091070504d57103c8113620eb96b0a64483a356b7a76c30a113393ffe6edc77e7ed56ecaa5ba8c4ef21924edb80bcce326fba6c630df9c5c901208e22f75b04bcc82655ef40038611503ba320a0d2bbefe3fe2caf2b985f1c2d01e34759f1bb3efec81185fd1db2a936a8946be3aa8c00cbf5031fab54b9c6679a740ab169cfa1b132c306bdc56063bf68ff6ab3f849621aded04581aa724c4baba983c7a2adab420ded27c89b'\n",
        "\n",
        "KAGGLE_INPUT_PATH='/kaggle/input'\n",
        "KAGGLE_WORKING_PATH='/kaggle/working'\n",
        "KAGGLE_SYMLINK='kaggle'\n",
        "\n",
        "!umount /kaggle/input/ 2> /dev/null\n",
        "shutil.rmtree('/kaggle/input', ignore_errors=True)\n",
        "os.makedirs(KAGGLE_INPUT_PATH, 0o777, exist_ok=True)\n",
        "os.makedirs(KAGGLE_WORKING_PATH, 0o777, exist_ok=True)\n",
        "\n",
        "try:\n",
        "  os.symlink(KAGGLE_INPUT_PATH, os.path.join(\"..\", 'input'), target_is_directory=True)\n",
        "except FileExistsError:\n",
        "  pass\n",
        "try:\n",
        "  os.symlink(KAGGLE_WORKING_PATH, os.path.join(\"..\", 'working'), target_is_directory=True)\n",
        "except FileExistsError:\n",
        "  pass\n",
        "\n",
        "for data_source_mapping in DATA_SOURCE_MAPPING.split(','):\n",
        "    directory, download_url_encoded = data_source_mapping.split(':')\n",
        "    download_url = unquote(download_url_encoded)\n",
        "    filename = urlparse(download_url).path\n",
        "    destination_path = os.path.join(KAGGLE_INPUT_PATH, directory)\n",
        "    try:\n",
        "        with urlopen(download_url) as fileres, NamedTemporaryFile() as tfile:\n",
        "            total_length = fileres.headers['content-length']\n",
        "            print(f'Downloading {directory}, {total_length} bytes compressed')\n",
        "            dl = 0\n",
        "            data = fileres.read(CHUNK_SIZE)\n",
        "            while len(data) > 0:\n",
        "                dl += len(data)\n",
        "                tfile.write(data)\n",
        "                done = int(50 * dl / int(total_length))\n",
        "                sys.stdout.write(f\"\\r[{'=' * done}{' ' * (50-done)}] {dl} bytes downloaded\")\n",
        "                sys.stdout.flush()\n",
        "                data = fileres.read(CHUNK_SIZE)\n",
        "            if filename.endswith('.zip'):\n",
        "              with ZipFile(tfile) as zfile:\n",
        "                zfile.extractall(destination_path)\n",
        "            else:\n",
        "              with tarfile.open(tfile.name) as tarfile:\n",
        "                tarfile.extractall(destination_path)\n",
        "            print(f'\\nDownloaded and uncompressed: {directory}')\n",
        "    except HTTPError as e:\n",
        "        print(f'Failed to load (likely expired) {download_url} to path {destination_path}')\n",
        "        continue\n",
        "    except OSError as e:\n",
        "        print(f'Failed to load {download_url} to path {destination_path}')\n",
        "        continue\n",
        "\n",
        "print('Data source import complete.')\n"
      ],
      "metadata": {
        "id": "wkPlf10sDdmZ"
      },
      "cell_type": "code",
      "outputs": [],
      "execution_count": null
    },
    {
      "cell_type": "code",
      "source": [
        "# For example, here's several helpful packages to load\n",
        "\n",
        "import numpy as np # linear algebra\n",
        "import pandas as pd # data processing, CSV file I/O (e.g. pd.read_csv)"
      ],
      "metadata": {
        "execution": {
          "iopub.status.idle": "2024-04-01T18:38:17.841264Z",
          "shell.execute_reply.started": "2024-04-01T18:38:16.46643Z",
          "shell.execute_reply": "2024-04-01T18:38:17.839746Z"
        },
        "trusted": true,
        "id": "iZB4b28zDdmb"
      },
      "execution_count": null,
      "outputs": []
    },
    {
      "cell_type": "markdown",
      "source": [
        "## 1. Indian Food and Its Recipes Dataset (With Images)\n",
        "\n",
        "\n",
        "Context :-\n",
        "This data was created to build a Deep Learning based image to recipes model which can provide ingredients and recipe of the dish once the image is uploaded\n",
        "\n",
        "Source :-\n",
        "The data is scrapped from website (Link :- https://www.archanaskitchen.com/) and images were downloaded from the image download code using python. You can find both the code below\n",
        "Github Link :- https://github.com/websitecreatr99/Web-Scrapping-For-Cuisines.git"
      ],
      "metadata": {
        "id": "qmlLjYKADdmb"
      }
    },
    {
      "cell_type": "code",
      "source": [
        "df = pd.read_csv(\"/kaggle/input/indian-food-and-its-recipes-dataset-with-images/cuisines.csv\")"
      ],
      "metadata": {
        "execution": {
          "iopub.status.busy": "2024-04-01T18:38:54.051871Z",
          "iopub.execute_input": "2024-04-01T18:38:54.052383Z",
          "iopub.status.idle": "2024-04-01T18:38:54.454307Z",
          "shell.execute_reply.started": "2024-04-01T18:38:54.052347Z",
          "shell.execute_reply": "2024-04-01T18:38:54.453031Z"
        },
        "trusted": true,
        "id": "HcGHkRI8Ddmb"
      },
      "execution_count": null,
      "outputs": []
    },
    {
      "cell_type": "code",
      "source": [
        "df.count()"
      ],
      "metadata": {
        "_uuid": "8f2839f25d086af736a60e9eeb907d3b93b6e0e5",
        "_cell_guid": "b1076dfc-b9ad-4769-8c92-a6c4dae69d19",
        "execution": {
          "iopub.status.busy": "2024-04-01T18:39:35.221536Z",
          "iopub.execute_input": "2024-04-01T18:39:35.224496Z",
          "iopub.status.idle": "2024-04-01T18:39:35.244261Z",
          "shell.execute_reply.started": "2024-04-01T18:39:35.224416Z",
          "shell.execute_reply": "2024-04-01T18:39:35.242468Z"
        },
        "trusted": true,
        "id": "eUVU8yzqDdmb",
        "outputId": "41f6b12e-a679-4b28-f0a5-565eb1c632d9"
      },
      "execution_count": null,
      "outputs": [
        {
          "execution_count": 6,
          "output_type": "execute_result",
          "data": {
            "text/plain": "name            4236\nimage_url       4236\ndescription     4236\ncuisine         4230\ncourse          4198\ndiet            4199\nprep_time       4226\ningredients     4236\ninstructions    4236\ndtype: int64"
          },
          "metadata": {}
        }
      ]
    },
    {
      "cell_type": "markdown",
      "source": [
        "## 2. Indian Food Images Dataset\n",
        "\n",
        "Source: This Dataset is created from Google Images: https://images.google.com/. If you want to learn more, you can visit the Website.\n",
        "\n",
        "Indian cuisine consists of a variety of regional and traditional cuisines native to the Indian subcontinent. Given the diversity in soil, climate, culture, ethnic groups, and occupations, these cuisines vary substantially and use locally available spices, herbs, vegetables, and fruits. Indian food is also heavily influenced by religion, in particular Hinduism, cultural choices, and traditions. Centuries of Islamic rule, particularly by the Mughals, also introduced dishes like samosa and pilaf.\n",
        "\n",
        "Historical events such as invasions, trade relations, and colonialism have played a role in introducing certain foods to this country. The Columbian discovery of the New World brought a number of new vegetables and fruit to India. A number of these such as the potato, tomatoes, chilies, peanuts, and Guava have become staples in many regions of India. Indian cuisine has shaped the history of international relations; the spice trade between India and Europe was the primary catalyst for Europe's Age of Discovery. Spices were bought from India and traded around Europe and Asia. Indian cuisine has influenced other cuisines across the world, especially those from Europe (especially Britain), the Middle East, Southern African, East Africa, Southeast Asia, North America, Mauritius, Fiji, Oceania, and the Caribbean.\n",
        "\n",
        "Content\n",
        "In this Dataset, we have 4000 Indian Food Images in 80 different categories or classes."
      ],
      "metadata": {
        "id": "XJ88zTUNDdmc"
      }
    },
    {
      "cell_type": "code",
      "source": [
        "import os\n",
        "File_object = open(\"/kaggle/input/indian-food-images-dataset/List of Indian Foods.txt\", \"r\")\n",
        "images = File_object.read()\n",
        "print(images)\n"
      ],
      "metadata": {
        "execution": {
          "iopub.status.busy": "2024-04-01T18:54:30.757218Z",
          "iopub.execute_input": "2024-04-01T18:54:30.757765Z",
          "iopub.status.idle": "2024-04-01T18:54:30.773822Z",
          "shell.execute_reply.started": "2024-04-01T18:54:30.757728Z",
          "shell.execute_reply": "2024-04-01T18:54:30.772847Z"
        },
        "trusted": true,
        "id": "aagRIWlFDdmc",
        "outputId": "97087679-b1aa-4b44-bb18-3e861f82d2dd"
      },
      "execution_count": null,
      "outputs": [
        {
          "name": "stdout",
          "text": "adhirasam\n\naloo_gobi\n\naloo_matar\n\naloo_methi\n\naloo_shimla_mirch\n\naloo_tikki\n\nanarsa\n\nariselu\n\nbandar_laddu\n\nbasundi\n\nbhatura\n\nbhindi_masala\n\nbiryani\n\nboondi\n\nbutter_chicken\n\nchak_hao_kheer\n\ncham_cham\n\nchana_masala\n\nchapati\n\nchhena_kheeri\n\nchicken_razala\n\nchicken_tikka\n\nchicken_tikka_masala\n\nchikki\n\ndaal_baati_churma\n\ndaal_puri\n\ndal_makhani\n\ndal_tadka\n\ndharwad_pedha\n\ndoodhpak\n\ndouble_ka_meetha\n\ndum_aloo\n\ngajar_ka_halwa\n\ngavvalu\n\nghevar\n\ngulab_jamun\n\nimarti\n\njalebi\n\nkachori\n\nkadai_paneer\n\nkadhi_pakoda\n\nkajjikaya\n\nkakinada_khaja\n\nkalakand\n\nkarela_bharta\n\nkofta\n\nkuzhi_paniyaram\n\nlassi\n\nledikeni\n\nlitti_chokha\n\nlyangcha\n\nmaach_jhol\n\nmakki_di_roti_sarson_da_saag\n\nmalapua\n\nmisi_roti\n\nmisti_doi\n\nmodak\n\nmysore_pak\n\nnaan\n\nnavrattan_korma\n\npalak_paneer\n\npaneer_butter_masala\n\nphirni\n\npithe\n\npoha\n\npoornalu\n\npootharekulu\n\nqubani_ka_meetha\n\nrabri\n\nras_malai\n\nrasgulla\n\nsandesh\n\nshankarpali\n\nsheer_korma\n\nsheera\n\nshrikhand\n\nsohan_halwa\n\nsohan_papdi\n\nsutar_feni\n\nunni_appam\n",
          "output_type": "stream"
        }
      ]
    },
    {
      "cell_type": "markdown",
      "source": [
        "### 3. 6000+ Indian Food Recipes Dataset\n",
        "\n",
        "\n",
        "\n",
        "The dataset has following fields (self-explanatory) - ['RecipeName', 'TranslatedRecipeName', 'Ingredients', 'TranslatedIngredients', 'Prep', 'Cook', 'Total', 'Servings', 'Cuisine', 'Course', 'Diet', 'Instructions', 'TranslatedInstructions']. The datset contains a csv and a xls file. Sometimes, the content in Hindi is not visible in the csv format.\n",
        "\n",
        "You might be wondering what the columns with the prefix 'Translated' are. So, a lot of entries in the dataset were in Hindi language. To take care of such entries and translating them to English for consistency, I went ahead and used 'googletrans'. It is a python library that implements Google Translate API underneath.\n",
        "\n",
        "The code for the crawler, cleaning and transformation is on my Github repository (@kanishk307).\n",
        "\n",
        "The dataset has been created using Archana's Kitchen Website. It is a great website and hosts a ton of useful content. You should definitely consider viewing it if you are interested."
      ],
      "metadata": {
        "id": "7hhGWSYyDdmc"
      }
    },
    {
      "cell_type": "code",
      "source": [
        "data = pd.read_csv(\"/kaggle/input/6000-indian-food-recipes-dataset/IndianFoodDatasetCSV.csv\")\n",
        "data.head()"
      ],
      "metadata": {
        "execution": {
          "iopub.status.busy": "2024-04-01T18:58:10.896941Z",
          "iopub.execute_input": "2024-04-01T18:58:10.897693Z",
          "iopub.status.idle": "2024-04-01T18:58:11.428357Z",
          "shell.execute_reply.started": "2024-04-01T18:58:10.89762Z",
          "shell.execute_reply": "2024-04-01T18:58:11.427074Z"
        },
        "trusted": true,
        "id": "7pr8Jf4XDdmc",
        "outputId": "c0798604-e65e-4841-e6cf-3a53d49171e1"
      },
      "execution_count": null,
      "outputs": [
        {
          "execution_count": 32,
          "output_type": "execute_result",
          "data": {
            "text/plain": "   Srno                                         RecipeName  \\\n0     1                               Masala Karela Recipe   \n1     2  टमाटर पुलियोगरे रेसिपी - Spicy Tomato Rice (Re...   \n2     3  Ragi Semiya Upma Recipe - Ragi Millet Vermicel...   \n3     4  Gongura Chicken Curry Recipe - Andhra Style Go...   \n4     5  आंध्रा स्टाइल आलम पचड़ी रेसिपी - Adrak Chutney ...   \n\n                                TranslatedRecipeName  \\\n0                               Masala Karela Recipe   \n1                         Spicy Tomato Rice (Recipe)   \n2  Ragi Semiya Upma Recipe - Ragi Millet Vermicel...   \n3  Gongura Chicken Curry Recipe - Andhra Style Go...   \n4  Andhra Style Alam Pachadi Recipe - Adrak Chutn...   \n\n                                         Ingredients  \\\n0  6 Karela (Bitter Gourd/ Pavakkai) - deseeded,S...   \n1  2-1/2 कप चावल - पका ले,3 टमाटर,3 छोटा चमच्च बी...   \n2  1-1/2 cups Rice Vermicelli Noodles (Thin),1 On...   \n3  500 grams Chicken,2 Onion - chopped,1 Tomato -...   \n4  1 बड़ा चमच्च चना दाल,1 बड़ा चमच्च सफ़ेद उरद दाल,2...   \n\n                               TranslatedIngredients  PrepTimeInMins  \\\n0  6 Karela (Bitter Gourd/ Pavakkai) - deseeded,S...              15   \n1  2-1 / 2 cups rice - cooked, 3 tomatoes, 3 teas...               5   \n2  1-1/2 cups Rice Vermicelli Noodles (Thin),1 On...              20   \n3  500 grams Chicken,2 Onion - chopped,1 Tomato -...              15   \n4  1 tablespoon chana dal, 1 tablespoon white ura...              10   \n\n   CookTimeInMins  TotalTimeInMins  Servings               Cuisine  \\\n0              30               45         6                Indian   \n1              10               15         3  South Indian Recipes   \n2              30               50         4  South Indian Recipes   \n3              30               45         4                Andhra   \n4              20               30         4                Andhra   \n\n                   Course                     Diet  \\\n0               Side Dish        Diabetic Friendly   \n1             Main Course               Vegetarian   \n2  South Indian Breakfast  High Protein Vegetarian   \n3                   Lunch           Non Vegeterian   \n4  South Indian Breakfast               Vegetarian   \n\n                                        Instructions  \\\n0  To begin making the Masala Karela Recipe,de-se...   \n1  टमाटर पुलियोगरे बनाने के लिए सबसे पहले टमाटर क...   \n2  To begin making the Ragi Vermicelli Recipe, fi...   \n3  To begin making Gongura Chicken Curry Recipe f...   \n4  आंध्रा स्टाइल आलम पचड़ी बनाने के लिए सबसे पहले ...   \n\n                              TranslatedInstructions  \\\n0  To begin making the Masala Karela Recipe,de-se...   \n1  To make tomato puliogere, first cut the tomato...   \n2  To begin making the Ragi Vermicelli Recipe, fi...   \n3  To begin making Gongura Chicken Curry Recipe f...   \n4  To make Andhra Style Alam Pachadi, first heat ...   \n\n                                                 URL  \n0  https://www.archanaskitchen.com/masala-karela-...  \n1  http://www.archanaskitchen.com/spicy-tomato-ri...  \n2  http://www.archanaskitchen.com/ragi-vermicelli...  \n3  http://www.archanaskitchen.com/gongura-chicken...  \n4  https://www.archanaskitchen.com/andhra-style-a...  ",
            "text/html": "<div>\n<style scoped>\n    .dataframe tbody tr th:only-of-type {\n        vertical-align: middle;\n    }\n\n    .dataframe tbody tr th {\n        vertical-align: top;\n    }\n\n    .dataframe thead th {\n        text-align: right;\n    }\n</style>\n<table border=\"1\" class=\"dataframe\">\n  <thead>\n    <tr style=\"text-align: right;\">\n      <th></th>\n      <th>Srno</th>\n      <th>RecipeName</th>\n      <th>TranslatedRecipeName</th>\n      <th>Ingredients</th>\n      <th>TranslatedIngredients</th>\n      <th>PrepTimeInMins</th>\n      <th>CookTimeInMins</th>\n      <th>TotalTimeInMins</th>\n      <th>Servings</th>\n      <th>Cuisine</th>\n      <th>Course</th>\n      <th>Diet</th>\n      <th>Instructions</th>\n      <th>TranslatedInstructions</th>\n      <th>URL</th>\n    </tr>\n  </thead>\n  <tbody>\n    <tr>\n      <th>0</th>\n      <td>1</td>\n      <td>Masala Karela Recipe</td>\n      <td>Masala Karela Recipe</td>\n      <td>6 Karela (Bitter Gourd/ Pavakkai) - deseeded,S...</td>\n      <td>6 Karela (Bitter Gourd/ Pavakkai) - deseeded,S...</td>\n      <td>15</td>\n      <td>30</td>\n      <td>45</td>\n      <td>6</td>\n      <td>Indian</td>\n      <td>Side Dish</td>\n      <td>Diabetic Friendly</td>\n      <td>To begin making the Masala Karela Recipe,de-se...</td>\n      <td>To begin making the Masala Karela Recipe,de-se...</td>\n      <td>https://www.archanaskitchen.com/masala-karela-...</td>\n    </tr>\n    <tr>\n      <th>1</th>\n      <td>2</td>\n      <td>टमाटर पुलियोगरे रेसिपी - Spicy Tomato Rice (Re...</td>\n      <td>Spicy Tomato Rice (Recipe)</td>\n      <td>2-1/2 कप चावल - पका ले,3 टमाटर,3 छोटा चमच्च बी...</td>\n      <td>2-1 / 2 cups rice - cooked, 3 tomatoes, 3 teas...</td>\n      <td>5</td>\n      <td>10</td>\n      <td>15</td>\n      <td>3</td>\n      <td>South Indian Recipes</td>\n      <td>Main Course</td>\n      <td>Vegetarian</td>\n      <td>टमाटर पुलियोगरे बनाने के लिए सबसे पहले टमाटर क...</td>\n      <td>To make tomato puliogere, first cut the tomato...</td>\n      <td>http://www.archanaskitchen.com/spicy-tomato-ri...</td>\n    </tr>\n    <tr>\n      <th>2</th>\n      <td>3</td>\n      <td>Ragi Semiya Upma Recipe - Ragi Millet Vermicel...</td>\n      <td>Ragi Semiya Upma Recipe - Ragi Millet Vermicel...</td>\n      <td>1-1/2 cups Rice Vermicelli Noodles (Thin),1 On...</td>\n      <td>1-1/2 cups Rice Vermicelli Noodles (Thin),1 On...</td>\n      <td>20</td>\n      <td>30</td>\n      <td>50</td>\n      <td>4</td>\n      <td>South Indian Recipes</td>\n      <td>South Indian Breakfast</td>\n      <td>High Protein Vegetarian</td>\n      <td>To begin making the Ragi Vermicelli Recipe, fi...</td>\n      <td>To begin making the Ragi Vermicelli Recipe, fi...</td>\n      <td>http://www.archanaskitchen.com/ragi-vermicelli...</td>\n    </tr>\n    <tr>\n      <th>3</th>\n      <td>4</td>\n      <td>Gongura Chicken Curry Recipe - Andhra Style Go...</td>\n      <td>Gongura Chicken Curry Recipe - Andhra Style Go...</td>\n      <td>500 grams Chicken,2 Onion - chopped,1 Tomato -...</td>\n      <td>500 grams Chicken,2 Onion - chopped,1 Tomato -...</td>\n      <td>15</td>\n      <td>30</td>\n      <td>45</td>\n      <td>4</td>\n      <td>Andhra</td>\n      <td>Lunch</td>\n      <td>Non Vegeterian</td>\n      <td>To begin making Gongura Chicken Curry Recipe f...</td>\n      <td>To begin making Gongura Chicken Curry Recipe f...</td>\n      <td>http://www.archanaskitchen.com/gongura-chicken...</td>\n    </tr>\n    <tr>\n      <th>4</th>\n      <td>5</td>\n      <td>आंध्रा स्टाइल आलम पचड़ी रेसिपी - Adrak Chutney ...</td>\n      <td>Andhra Style Alam Pachadi Recipe - Adrak Chutn...</td>\n      <td>1 बड़ा चमच्च चना दाल,1 बड़ा चमच्च सफ़ेद उरद दाल,2...</td>\n      <td>1 tablespoon chana dal, 1 tablespoon white ura...</td>\n      <td>10</td>\n      <td>20</td>\n      <td>30</td>\n      <td>4</td>\n      <td>Andhra</td>\n      <td>South Indian Breakfast</td>\n      <td>Vegetarian</td>\n      <td>आंध्रा स्टाइल आलम पचड़ी बनाने के लिए सबसे पहले ...</td>\n      <td>To make Andhra Style Alam Pachadi, first heat ...</td>\n      <td>https://www.archanaskitchen.com/andhra-style-a...</td>\n    </tr>\n  </tbody>\n</table>\n</div>"
          },
          "metadata": {}
        }
      ]
    },
    {
      "cell_type": "code",
      "source": [],
      "metadata": {
        "id": "WW-B5rsNDdmc"
      },
      "execution_count": null,
      "outputs": []
    }
  ]
}