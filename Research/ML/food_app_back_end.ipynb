{
  "cells": [
    {
      "cell_type": "markdown",
      "metadata": {
        "id": "view-in-github",
        "colab_type": "text"
      },
      "source": [
        "<a href=\"https://colab.research.google.com/github/Stealth-Food-Exploration/web-application/blob/main/Research/ML/food_app_back_end.ipynb\" target=\"_parent\"><img src=\"https://colab.research.google.com/assets/colab-badge.svg\" alt=\"Open In Colab\"/></a>"
      ]
    },
    {
      "cell_type": "code",
      "execution_count": null,
      "metadata": {
        "colab": {
          "base_uri": "https://localhost:8080/"
        },
        "id": "92gjr4qYi_Ai",
        "outputId": "e8294fd9-8404-4c75-ad50-06c150634832"
      },
      "outputs": [
        {
          "name": "stdout",
          "output_type": "stream",
          "text": [
            "Mounted at /content/drive\n"
          ]
        }
      ],
      "source": [
        "from google.colab import drive\n",
        "drive.mount('/content/drive')"
      ]
    },
    {
      "cell_type": "code",
      "execution_count": null,
      "metadata": {
        "colab": {
          "base_uri": "https://localhost:8080/",
          "height": 34
        },
        "id": "xrLEAwDO9uiQ",
        "outputId": "f16b9628-6278-410f-83db-96dde9711eeb"
      },
      "outputs": [
        {
          "name": "stdout",
          "output_type": "stream",
          "text": [
            "https://fx1lcifcsug-496ff2e9c6d22116-5000-colab.googleusercontent.com/\n"
          ]
        }
      ],
      "source": [
        "from google.colab.output import eval_js\n",
        "print(eval_js(\"google.colab.kernel.proxyPort(5000)\"))"
      ]
    },
    {
      "cell_type": "code",
      "execution_count": null,
      "metadata": {
        "colab": {
          "background_save": true,
          "base_uri": "https://localhost:8080/"
        },
        "id": "bZnV9fF6iasI",
        "outputId": "0f974c9d-b014-4771-91c6-f20635b071f3"
      },
      "outputs": [
        {
          "name": "stdout",
          "output_type": "stream",
          "text": [
            " * Serving Flask app '__main__'\n",
            " * Debug mode: off\n"
          ]
        },
        {
          "name": "stderr",
          "output_type": "stream",
          "text": [
            "INFO:werkzeug:\u001b[31m\u001b[1mWARNING: This is a development server. Do not use it in a production deployment. Use a production WSGI server instead.\u001b[0m\n",
            " * Running on http://127.0.0.1:5000\n",
            "INFO:werkzeug:\u001b[33mPress CTRL+C to quit\u001b[0m\n"
          ]
        }
      ],
      "source": [
        "from flask import Flask, request, jsonify,render_template\n",
        "from tensorflow.keras.models import load_model\n",
        "import numpy as np\n",
        "from PIL import Image\n",
        "from io import BytesIO\n",
        "from tensorflow.keras.preprocessing import image\n",
        "from keras.applications.mobilenet_v2 import preprocess_input\n",
        "import pickle\n",
        "import jsonschema\n",
        "from flask_ngrok import run_with_ngrok\n",
        "app = Flask(__name__,template_folder=\"/content/drive/MyDrive/GARAM food exploaration/Indian Food Exploration App/templates\")\n",
        "\n",
        "\n",
        "# Load the trained model\n",
        "model = load_model(\"/content/drive/MyDrive/GARAM food exploaration/Indian Food Exploration App/IndianFood_model_v1\")\n",
        "index_to_class = pickle.load(open('/content/drive/MyDrive/GARAM food exploaration/Indian Food Exploration App/index_to_class.pkl', 'rb'))\n",
        "\n",
        "def prepare_image(img_data):\n",
        "    \"\"\"\n",
        "    Converts image data into a format suitable for model prediction.\n",
        "    \"\"\"\n",
        "    img = Image.open(BytesIO(img_data))\n",
        "    img = img.resize((224, 224))\n",
        "    img_array = image.img_to_array(img)\n",
        "    img_array = np.expand_dims(img_array, axis=0)\n",
        "    return preprocess_input(img_array)\n",
        "\n",
        "\n",
        "@app.route('/predict', methods=['POST'])\n",
        "def index():\n",
        "    \"\"\"\n",
        "    Renders the index.html template by default for GET requests.\n",
        "    Handles image classification for POST requests.\n",
        "    \"\"\"\n",
        "\n",
        "    img_data = request.files['image'].read()\n",
        "    img_array = prepare_image(img_data)\n",
        "\n",
        "    predictions = model.predict(img_array)\n",
        "    predicted_class_index = np.argmax(predictions)\n",
        "    predicted_class = index_to_class[predicted_class_index]\n",
        "    print(predicted_class)\n",
        "    return jsonify({'prediction': predicted_class})\n",
        "\n",
        "if __name__ == \"__main__\":\n",
        "    app.run()"
      ]
    },
    {
      "cell_type": "code",
      "execution_count": null,
      "metadata": {
        "id": "p5LYBiMalf2e"
      },
      "outputs": [],
      "source": []
    },
    {
      "cell_type": "code",
      "execution_count": null,
      "metadata": {
        "id": "Psr91bPxxWFr"
      },
      "outputs": [],
      "source": [
        "from tensorflow.keras.preprocessing import image\n",
        "import matplotlib.pyplot as plt\n",
        "from keras.applications.mobilenet_v2 import preprocess_input\n",
        "import numpy as np\n",
        "from tensorflow.keras.models import load_model\n",
        "\n",
        "# load model\n",
        "loaded_model = load_model(\"/content/drive/MyDrive/GARAM food exploaration/Indian Food Exploration App/IndianFood_model_v1\")\n",
        "\n",
        "# image\n",
        "def predict(img_path):\n",
        "  img = image.load_img(img_path, target_size=(224, 224))\n",
        "  img_array = image.img_to_array(img)\n",
        "  img_array = np.expand_dims(img_array, axis=0)\n",
        "  img_array = preprocess_input(img_array)\n",
        "\n",
        "  # Make predictions\n",
        "  predictions = model.predict(img_array)\n",
        "  predicted_class_index = np.argmax(predictions)\n",
        "\n",
        "  # showing image and prediciton\n",
        "  plt.figure(figsize=(6, 6))\n",
        "  plt.imshow(img)\n",
        "  plt.title(index_to_class[predicted_class_index])\n",
        "  plt.axis('off')\n",
        "  plt.show()\n",
        "\n",
        "paths = [\"/content/drive/MyDrive/GARAM food exploaration/Indian Food Exploration App/test_1.jpg\",'/content/drive/MyDrive/GARAM food exploaration/Indian Food Exploration App/test_2.jpg',\"/content/drive/MyDrive/GARAM food exploaration/Indian Food Exploration App/test_3.jpg\",'/content/drive/MyDrive/GARAM food exploaration/Indian Food Exploration App/test_4.jpg',\"/content/drive/MyDrive/GARAM food exploaration/Indian Food Exploration App/test_5.jpg\",'/content/drive/MyDrive/GARAM food exploaration/Indian Food Exploration App/test_6.jpg']\n",
        "\n",
        "for path in paths:\n",
        "  predict(path)"
      ]
    },
    {
      "cell_type": "code",
      "execution_count": null,
      "metadata": {
        "id": "EMW91nxsBB0p"
      },
      "outputs": [],
      "source": []
    }
  ],
  "metadata": {
    "colab": {
      "provenance": [],
      "include_colab_link": true
    },
    "kernelspec": {
      "display_name": "Python 3",
      "name": "python3"
    },
    "language_info": {
      "name": "python"
    }
  },
  "nbformat": 4,
  "nbformat_minor": 0
}